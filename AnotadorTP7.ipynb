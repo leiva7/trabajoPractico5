{
 "cells": [
  {
   "cell_type": "code",
   "execution_count": 3,
   "metadata": {},
   "outputs": [
    {
     "name": "stdout",
     "output_type": "stream",
     "text": [
      "odnum aloH\n"
     ]
    }
   ],
   "source": [
    "def inversa(cadena):\n",
    "        #Devuelve la cadena invertida. Str = Str\n",
    "        i=-1\n",
    "        inversion = \"\"\n",
    "        while i>=(-(len(cadena))):\n",
    "                inversion = inversion + cadena[i]\n",
    "                i -=1\n",
    "        return inversion\n",
    "print(inversa(\"Hola mundo\"))"
   ]
  },
  {
   "cell_type": "code",
   "execution_count": 8,
   "metadata": {},
   "outputs": [
    {
     "data": {
      "text/plain": [
       "True"
      ]
     },
     "execution_count": 8,
     "metadata": {},
     "output_type": "execute_result"
    }
   ],
   "source": [
    "def capicua(numero):\n",
    "    #Devuelve true si un numero es capicua\n",
    "    if str(numero) == inversa(str(numero)):\n",
    "        return True\n",
    "    else:\n",
    "        return False\n",
    "\n",
    "capicua(303)"
   ]
  },
  {
   "cell_type": "code",
   "execution_count": 2,
   "metadata": {},
   "outputs": [
    {
     "data": {
      "text/plain": [
       "True"
      ]
     },
     "execution_count": 2,
     "metadata": {},
     "output_type": "execute_result"
    }
   ],
   "source": [
    "def esPrimo(numero):\n",
    "    #Determina si el numero pasado por parametro es primo devolviendo un booleano\n",
    "    i = 1\n",
    "    suma = 0\n",
    "    while i<numero:\n",
    "        if numero%i==0:\n",
    "            suma +=1\n",
    "        i += 1\n",
    "    if suma==1:\n",
    "        return True\n",
    "    else:\n",
    "        return False\n",
    "esPrimo(3)"
   ]
  },
  {
   "cell_type": "code",
   "execution_count": 3,
   "metadata": {},
   "outputs": [
    {
     "name": "stdout",
     "output_type": "stream",
     "text": [
      "5\n"
     ]
    }
   ],
   "source": [
    "def enesimoPrimo(n):\n",
    "    i=1\n",
    "    cantPrimos = 0\n",
    "    while cantPrimos < n:\n",
    "        i += 1\n",
    "        if esPrimo(i)==True:\n",
    "            cantPrimos += 1\n",
    " \n",
    "    return i\n",
    "    \n",
    "print(enesimoPrimo(3))"
   ]
  },
  {
   "cell_type": "code",
   "execution_count": 4,
   "metadata": {},
   "outputs": [
    {
     "name": "stdout",
     "output_type": "stream",
     "text": [
      "10\n",
      "5\n",
      "2\n",
      "1\n"
     ]
    }
   ],
   "source": [
    "def divisores(numero):\n",
    "    i=numero\n",
    "    while i>0:\n",
    "        if numero%i==0:\n",
    "            print (i)\n",
    "        i -=1\n",
    "    \n",
    "divisores(10)"
   ]
  },
  {
   "cell_type": "code",
   "execution_count": 7,
   "metadata": {},
   "outputs": [
    {
     "data": {
      "image/png": "[encoded data removed]",
      "text/plain": [
       "<Figure size 432x288 with 1 Axes>"
      ]
     },
     "metadata": {
      "needs_background": "light"
     },
     "output_type": "display_data"
    }
   ],
   "source": [
    "import numpy\n",
    "from matplotlib import pyplot\n",
    "x = numpy.linspace(-2,7,100)\n",
    "y = 2*x+5\n",
    "pyplot.plot(x,y)\n",
    "pyplot.show()"
   ]
  },
  {
   "cell_type": "code",
   "execution_count": 15,
   "metadata": {},
   "outputs": [
    {
     "name": "stdout",
     "output_type": "stream",
     "text": [
      "[ 7. -1. -1.]\n"
     ]
    }
   ],
   "source": [
    "import numpy as np\n",
    "a = np.array([[1,1,3],[2,4,5],[2,2,4]])\n",
    "b =np.array([3,5,8])\n",
    "print (np.linalg.solve(a,b))"
   ]
  },
  {
   "cell_type": "code",
   "execution_count": null,
   "metadata": {},
   "outputs": [],
   "source": []
  },
  {
   "cell_type": "code",
   "execution_count": null,
   "metadata": {},
   "outputs": [],
   "source": []
  }
 ],
 "metadata": {
  "kernelspec": {
   "display_name": "Python 3",
   "language": "python",
   "name": "python3"
  },
  "language_info": {
   "codemirror_mode": {
    "name": "ipython",
    "version": 3
   },
   "file_extension": ".py",
   "mimetype": "text/x-python",
   "name": "python",
   "nbconvert_exporter": "python",
   "pygments_lexer": "ipython3",
   "version": "3.6.7"
  }
 },
 "nbformat": 4,
 "nbformat_minor": 2
}
